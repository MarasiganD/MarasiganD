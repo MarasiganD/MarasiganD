{
  "nbformat": 4,
  "nbformat_minor": 0,
  "metadata": {
    "colab": {
      "provenance": [],
      "authorship_tag": "ABX9TyPb/5ATrlHGp3rhxZaowUeC",
      "include_colab_link": true
    },
    "kernelspec": {
      "name": "python3",
      "display_name": "Python 3"
    },
    "language_info": {
      "name": "python"
    }
  },
  "cells": [
    {
      "cell_type": "markdown",
      "metadata": {
        "id": "view-in-github",
        "colab_type": "text"
      },
      "source": [
        "<a href=\"https://colab.research.google.com/github/MarasiganD/MarasiganD/blob/main/HOA_2_CONTROL_STRUCTURES.ipynb\" target=\"_parent\"><img src=\"https://colab.research.google.com/assets/colab-badge.svg\" alt=\"Open In Colab\"/></a>"
      ]
    },
    {
      "cell_type": "code",
      "execution_count": 3,
      "metadata": {
        "colab": {
          "base_uri": "https://localhost:8080/"
        },
        "id": "cKfvRLY7vgSA",
        "outputId": "13bd562c-c7ee-42b9-d847-d525028ad180"
      },
      "outputs": [
        {
          "output_type": "stream",
          "name": "stdout",
          "text": [
            "Dolly\n",
            "Kurt\n",
            "Marasigan\n"
          ]
        }
      ],
      "source": [
        "students = [\"Dolly\", \"Kurt\", \"Marasigan\"]\n",
        "\n",
        "for i in students:\n",
        "  print(i)"
      ]
    },
    {
      "cell_type": "code",
      "source": [
        "print(list(range(len(students))))"
      ],
      "metadata": {
        "colab": {
          "base_uri": "https://localhost:8080/"
        },
        "id": "b80dWtE1w7vd",
        "outputId": "fbc0608c-7d1f-4a15-9027-b7480b397775"
      },
      "execution_count": 4,
      "outputs": [
        {
          "output_type": "stream",
          "name": "stdout",
          "text": [
            "[0, 1, 2]\n"
          ]
        }
      ]
    },
    {
      "cell_type": "code",
      "source": [
        "students = [\"Dolly\", \"Kurt\", \"Marasigan\"]\n",
        "print(len(students))\n",
        "\n",
        "for i in range(len(students)):\n",
        "    if students[i] == \"Kurt\":\n",
        "      break\n",
        "    print(students[i])\n",
        "\n",
        "for i in range(len(students)):\n",
        "    if students[i] == \"Kurt\":\n",
        "      continue\n",
        "    print(students[i])"
      ],
      "metadata": {
        "colab": {
          "base_uri": "https://localhost:8080/"
        },
        "id": "o7rl5BQvxeQl",
        "outputId": "4acf4097-2195-4205-a98b-c1b1cc8355cb"
      },
      "execution_count": 10,
      "outputs": [
        {
          "output_type": "stream",
          "name": "stdout",
          "text": [
            "3\n",
            "Dolly\n",
            "Dolly\n",
            "Marasigan\n"
          ]
        }
      ]
    },
    {
      "cell_type": "code",
      "source": [
        "number = int(input(\"Enter your number --> \"))\n",
        "n = int(input(\"Test divisibility by --> \"))\n",
        "\n",
        "i = number%n\n",
        "\n",
        "if i != 0:\n",
        "  print (\"The number \",number,\" is not divisible by \",n,\"\\n\")"
      ],
      "metadata": {
        "colab": {
          "base_uri": "https://localhost:8080/"
        },
        "id": "zN0ihu7wxeRD",
        "outputId": "9b1ffd4b-0f9e-41a2-edca-bbcfb768e461"
      },
      "execution_count": 24,
      "outputs": [
        {
          "name": "stdout",
          "output_type": "stream",
          "text": [
            "Enter your number --> 6\n",
            "Test divisibility by --> 2\n"
          ]
        }
      ]
    },
    {
      "cell_type": "code",
      "source": [
        "hidden = \"Mypasscode\"\n",
        "password = (input(\"Enter your password:\"))\n",
        "\n",
        "if password == hidden:\n",
        "  print (input(\"You entered the right password\\n\"))\n",
        "else:\n",
        "  print (input(\"Wrong password!!\\n\"))\n"
      ],
      "metadata": {
        "colab": {
          "base_uri": "https://localhost:8080/"
        },
        "id": "Vdw12O6e4bfS",
        "outputId": "1e60230e-9c74-4f22-df37-1b873500ea3e"
      },
      "execution_count": 34,
      "outputs": [
        {
          "output_type": "stream",
          "name": "stdout",
          "text": [
            "Enter your password:password is password\n",
            "Wrong password!!\n",
            "password is my password\n",
            "password is my password\n"
          ]
        }
      ]
    },
    {
      "cell_type": "code",
      "source": [
        "names = [\"Dolly\", \"Kurt\",\"Brix\"]\n",
        "j = 0\n",
        "for name in names:\n",
        "  j += 1\n",
        "  print (\"The name number\", j, \"in the list is\", name)"
      ],
      "metadata": {
        "colab": {
          "base_uri": "https://localhost:8080/"
        },
        "id": "d126ewBM7Rkp",
        "outputId": "f5dbb156-0b74-4f77-a420-38f46b461690"
      },
      "execution_count": 36,
      "outputs": [
        {
          "output_type": "stream",
          "name": "stdout",
          "text": [
            "The name number 1 in the list is Dolly\n",
            "The name number 2 in the list is Kurt\n",
            "The name number 3 in the list is Brix\n"
          ]
        }
      ]
    },
    {
      "cell_type": "code",
      "source": [
        "N = int(input(\"Enter N --> \"))\n",
        "print (\"Counting numbers from 0 to\", N, \"\\n\")\n",
        "\n",
        "i = 0\n",
        "while i < N+1:\n",
        "  print (i, \"\\n\")\n",
        "  i += 1"
      ],
      "metadata": {
        "colab": {
          "base_uri": "https://localhost:8080/"
        },
        "id": "nQfkIP6O7RlR",
        "outputId": "0d7559d2-a15a-44b8-f9b2-57a16daf26fa"
      },
      "execution_count": 61,
      "outputs": [
        {
          "output_type": "stream",
          "name": "stdout",
          "text": [
            "Enter N --> 10\n",
            "Counting numbers from 0 to 10 \n",
            "\n",
            "0 \n",
            "\n",
            "1 \n",
            "\n",
            "2 \n",
            "\n",
            "3 \n",
            "\n",
            "4 \n",
            "\n",
            "5 \n",
            "\n",
            "6 \n",
            "\n",
            "7 \n",
            "\n",
            "8 \n",
            "\n",
            "9 \n",
            "\n",
            "10 \n",
            "\n"
          ]
        }
      ]
    },
    {
      "cell_type": "code",
      "source": [
        "N = int(input(\"Enter the last integer considered --> \"))\n",
        "Sum = 0\n",
        "for i in range(0, N+1, 1):\n",
        "    Sum += i**2\n",
        "print (\"The sum of the squares between 0 and\", N, \"is\", Sum)\n"
      ],
      "metadata": {
        "colab": {
          "base_uri": "https://localhost:8080/"
        },
        "id": "ZG_NdFlg_SAR",
        "outputId": "a998d0a6-b162-47f2-bc7e-d1c9699e071a"
      },
      "execution_count": 63,
      "outputs": [
        {
          "output_type": "stream",
          "name": "stdout",
          "text": [
            "Enter the last integer considered --> 6\n",
            "The sum of the squares between 0 and 6 is 91\n"
          ]
        }
      ]
    },
    {
      "cell_type": "code",
      "source": [
        "N = int(input(\"Enter N --> \"))\n",
        "for i in range(0, N+1, 1):\n",
        "    if i**2 == N:\n",
        "        break\n",
        "    else:\n",
        "        if i % 5 == 0:\n",
        "            continue\n",
        "        print (i, \"\\n\")\n"
      ],
      "metadata": {
        "colab": {
          "base_uri": "https://localhost:8080/"
        },
        "id": "cKSDBEftDeTu",
        "outputId": "f70bbb1c-4b12-4b25-99c2-7aafc2122cad"
      },
      "execution_count": 73,
      "outputs": [
        {
          "output_type": "stream",
          "name": "stdout",
          "text": [
            "Enter N --> 6\n",
            "1 \n",
            "\n",
            "2 \n",
            "\n",
            "3 \n",
            "\n",
            "4 \n",
            "\n",
            "6 \n",
            "\n"
          ]
        }
      ]
    }
  ]
}